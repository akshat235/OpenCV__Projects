{
 "cells": [
  {
   "cell_type": "markdown",
   "metadata": {},
   "source": [
    "# Virtual Paint Using Opencv\n"
   ]
  },
  {
   "cell_type": "code",
   "execution_count": 27,
   "metadata": {},
   "outputs": [],
   "source": [
    "import cv2\n",
    "import numpy as np\n",
    "fwidth = 1080\n",
    "fheight = 800\n",
    "cap = cv2.VideoCapture(1)\n",
    "cap.set(3,fwidth)\n",
    "cap.set(4,480)\n",
    "cap.set(10,fheight)\n",
    "\n",
    "mycolors = [[0,50,60,255,150,180],\n",
    "                [93,128,62,158,93,174]]\n",
    "mycolorsvalue = [[30,250,250],\n",
    "                [200,40,40]]\n",
    "\n",
    "\n",
    "points =[] # [x,y,colorId]\n",
    "\n",
    "\n",
    "def findColor(img, mycolors, mycolorsvalue):\n",
    "    imgHSV = cv2.cvtColor(img,cv2.COLOR_BGR2HSV)\n",
    "    count= 0\n",
    "    newpoints= []\n",
    "    for color in mycolors:\n",
    "        lower = np.array(color[0:6:2])\n",
    "        upper = np.array (color[1::2])\n",
    "        mask = cv2.inRange(imgHSV,lower,upper)\n",
    "        x,y = getcontours(mask)\n",
    "        cv2.circle(imgRes, (x,y), 8, mycolorsvalue[count], cv2.FILLED)\n",
    "        if x!=0 and y!=0:\n",
    "            newpoints.append([x,y,count])\n",
    "       # cv2.imshow (str(color[0]),mask)\n",
    "        count+=1\n",
    "    return newpoints\n",
    "\n",
    "def getcontours(img):\n",
    "    contours, hierarchy = cv2.findContours(img,cv2.RETR_EXTERNAL, cv2.CHAIN_APPROX_NONE)\n",
    "    x,y,w,h = 0,0,0,0\n",
    "    for cnt in contours:\n",
    "        area = cv2.contourArea(cnt)\n",
    "        \n",
    "        if area>250:\n",
    "           #cv2.drawContours(imgRes, cnt, -1, (255,0,47),3)\n",
    "            peri= cv2.arcLength(cnt,True)\n",
    "            #print(peri)\n",
    "            approx = cv2.approxPolyDP(cnt,0.02*peri,True)\n",
    "            x, y, w, h = cv2.boundingRect(approx)\n",
    "    return x+w//2,y+h//2\n",
    "            \n",
    "def draw(points,mycolorsvalue):\n",
    "    for point in points:\n",
    "        cv2.circle(imgRes, (point[0],point[1]), 10, mycolorsvalue[point[2]], cv2.FILLED)\n",
    "        \n",
    "while(True):\n",
    "    ret, img = cap.read()\n",
    "    imgRes = img.copy()\n",
    "    newpoints = findColor(img, mycolors,mycolorsvalue)\n",
    "    if len(newpoints)!=0:\n",
    "        for newpoint in newpoints:\n",
    "            points.append(newpoint)\n",
    "    if len(points)!=0:\n",
    "        draw(points,mycolorsvalue)\n",
    "            \n",
    "            \n",
    "    cv2.imshow('imgresult',imgRes)\n",
    "    if cv2.waitKey(1) & 0xff == ord(' '):\n",
    "        break\n",
    "cap.release()\n",
    "cv2.destroyAllWindows()\n"
   ]
  },
  {
   "cell_type": "code",
   "execution_count": null,
   "metadata": {},
   "outputs": [],
   "source": []
  }
 ],
 "metadata": {
  "kernelspec": {
   "display_name": "Python 3",
   "language": "python",
   "name": "python3"
  },
  "language_info": {
   "codemirror_mode": {
    "name": "ipython",
    "version": 3
   },
   "file_extension": ".py",
   "mimetype": "text/x-python",
   "name": "python",
   "nbconvert_exporter": "python",
   "pygments_lexer": "ipython3",
   "version": "3.9.0"
  }
 },
 "nbformat": 4,
 "nbformat_minor": 4
}
